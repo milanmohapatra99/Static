{
 "cells": [
  {
   "cell_type": "code",
   "execution_count": 4,
   "id": "3f44674f",
   "metadata": {},
   "outputs": [
    {
     "name": "stdout",
     "output_type": "stream",
     "text": [
      "Salary for this employee working in Google is 100000\n",
      "Thanks!\n",
      "Good Morning, Sir\n",
      "The time is 9AM in the morning\n"
     ]
    }
   ],
   "source": [
    "class Employee:\n",
    "    company = \"Google\"\n",
    "\n",
    "    def getSalary(self, signature):\n",
    "        print(f\"Salary for this employee working in {self.company} is {self.salary}\\n{signature}\")\n",
    "\n",
    "    @staticmethod\n",
    "    def greet():\n",
    "        print(\"Good Morning, Sir\")\n",
    "\n",
    "    @staticmethod\n",
    "    def time():\n",
    "        print(\"The time is 9AM in the morning\")\n",
    "\n",
    "peter = Employee()\n",
    "peter.salary = 100000\n",
    "peter.getSalary(\"Thanks!\") # Employee.getSalary(harry)\n",
    "peter.greet() # Employee.greet()\n",
    "peter.time()\n",
    "\n"
   ]
  },
  {
   "cell_type": "code",
   "execution_count": null,
   "id": "6d8c5517",
   "metadata": {},
   "outputs": [],
   "source": []
  }
 ],
 "metadata": {
  "kernelspec": {
   "display_name": "Python 3 (ipykernel)",
   "language": "python",
   "name": "python3"
  },
  "language_info": {
   "codemirror_mode": {
    "name": "ipython",
    "version": 3
   },
   "file_extension": ".py",
   "mimetype": "text/x-python",
   "name": "python",
   "nbconvert_exporter": "python",
   "pygments_lexer": "ipython3",
   "version": "3.9.7"
  }
 },
 "nbformat": 4,
 "nbformat_minor": 5
}
